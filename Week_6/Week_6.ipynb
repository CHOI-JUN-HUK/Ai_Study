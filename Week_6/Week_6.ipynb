{
 "metadata": {
  "language_info": {
   "codemirror_mode": {
    "name": "ipython",
    "version": 3
   },
   "file_extension": ".py",
   "mimetype": "text/x-python",
   "name": "python",
   "nbconvert_exporter": "python",
   "pygments_lexer": "ipython3",
   "version": "3.8.5-final"
  },
  "orig_nbformat": 2,
  "kernelspec": {
   "name": "python3",
   "display_name": "Python 3.8.5 64-bit (conda)",
   "metadata": {
    "interpreter": {
     "hash": "4ee9cfc0904759e7e2b06ed65a99562148f77e055de7e5f323cef682e0a1a2ed"
    }
   }
  }
 },
 "nbformat": 4,
 "nbformat_minor": 2,
 "cells": [
  {
   "source": [
    "Week_6"
   ],
   "cell_type": "markdown",
   "metadata": {}
  },
  {
   "cell_type": "code",
   "execution_count": 10,
   "metadata": {},
   "outputs": [],
   "source": [
    "import tensorflow as tf\r\n",
    "import numpy as np\r\n",
    "import matplotlib.pyplot as plt\r\n",
    "from sklearn import datasets"
   ]
  },
  {
   "cell_type": "code",
   "execution_count": 13,
   "metadata": {},
   "outputs": [
    {
     "output_type": "stream",
     "name": "stdout",
     "text": [
      "(80, 2)\n(20, 2)\n(80,)\n(20,)\n"
     ]
    }
   ],
   "source": [
    "X, t = datasets.make_regression(n_samples=100, n_features=1, bias=10.0, noise=10.0, random_state=2)\n",
    "X_bias = np.insert(X,1,1,axis=1)\n",
    "train_x = X_bias[:80]\n",
    "test_x = X_bias[80:]\n",
    "\n",
    "train_t = t[:80]\n",
    "test_t = t[80:]\n",
    "\n",
    "print(train_x.shape)\n",
    "print(test_x.shape)\n",
    "print(train_t.shape)\n",
    "print(test_t.shape)"
   ]
  },
  {
   "cell_type": "code",
   "execution_count": 15,
   "metadata": {},
   "outputs": [],
   "source": [
    "model = tf.keras.models.Sequential()\n",
    "model.add(tf.keras.layers.Dense(units=1, activation='linear'))\n",
    "optimizer = tf.keras.optimizers.SGD(learning_rate=0.01)\n",
    "model.compile(loss='mean_squared_error', optimizer=optimizer)"
   ]
  },
  {
   "cell_type": "code",
   "execution_count": 16,
   "metadata": {},
   "outputs": [
    {
     "output_type": "stream",
     "name": "stdout",
     "text": [
      "Epoch 1/20\n",
      "8/8 [==============================] - 0s 997us/step - loss: 3633.0533\n",
      "Epoch 2/20\n",
      "8/8 [==============================] - 0s 860us/step - loss: 2206.1080\n",
      "Epoch 3/20\n",
      "8/8 [==============================] - 0s 855us/step - loss: 2315.9087\n",
      "Epoch 4/20\n",
      "8/8 [==============================] - 0s 1ms/step - loss: 1562.5031\n",
      "Epoch 5/20\n",
      "8/8 [==============================] - 0s 855us/step - loss: 1075.9904\n",
      "Epoch 6/20\n",
      "8/8 [==============================] - 0s 992us/step - loss: 840.5335\n",
      "Epoch 7/20\n",
      "8/8 [==============================] - 0s 855us/step - loss: 529.4678\n",
      "Epoch 8/20\n",
      "8/8 [==============================] - 0s 1ms/step - loss: 433.2236\n",
      "Epoch 9/20\n",
      "8/8 [==============================] - 0s 855us/step - loss: 322.6153\n",
      "Epoch 10/20\n",
      "8/8 [==============================] - 0s 868us/step - loss: 280.9826\n",
      "Epoch 11/20\n",
      "8/8 [==============================] - 0s 855us/step - loss: 202.5110\n",
      "Epoch 12/20\n",
      "8/8 [==============================] - 0s 855us/step - loss: 169.4194\n",
      "Epoch 13/20\n",
      "8/8 [==============================] - 0s 712us/step - loss: 126.4656\n",
      "Epoch 14/20\n",
      "8/8 [==============================] - 0s 712us/step - loss: 164.5225\n",
      "Epoch 15/20\n",
      "8/8 [==============================] - 0s 712us/step - loss: 94.0907\n",
      "Epoch 16/20\n",
      "8/8 [==============================] - 0s 712us/step - loss: 110.1639\n",
      "Epoch 17/20\n",
      "8/8 [==============================] - 0s 855us/step - loss: 101.9855\n",
      "Epoch 18/20\n",
      "8/8 [==============================] - 0s 712us/step - loss: 90.3694\n",
      "Epoch 19/20\n",
      "8/8 [==============================] - 0s 855us/step - loss: 99.0801\n",
      "Epoch 20/20\n",
      "8/8 [==============================] - 0s 855us/step - loss: 88.2362\n"
     ]
    }
   ],
   "source": [
    "batch_size = 10\n",
    "epochs = 20\n",
    "result = model.fit(train_x, train_t, batch_size=batch_size, epochs=epochs, shuffle=True)"
   ]
  },
  {
   "cell_type": "code",
   "execution_count": 17,
   "metadata": {},
   "outputs": [
    {
     "output_type": "execute_result",
     "data": {
      "text/plain": [
       "{'loss': [3313.087890625,\n",
       "  2398.880126953125,\n",
       "  1766.852294921875,\n",
       "  1293.0830078125,\n",
       "  959.2947387695312,\n",
       "  713.966796875,\n",
       "  538.35595703125,\n",
       "  412.6512756347656,\n",
       "  322.5508728027344,\n",
       "  257.0362548828125,\n",
       "  209.4298095703125,\n",
       "  173.95018005371094,\n",
       "  149.54061889648438,\n",
       "  132.1693878173828,\n",
       "  118.75105285644531,\n",
       "  108.7918701171875,\n",
       "  102.2230453491211,\n",
       "  97.6229476928711,\n",
       "  94.14140319824219,\n",
       "  91.52897644042969]}"
      ]
     },
     "metadata": {},
     "execution_count": 17
    }
   ],
   "source": [
    "result.history"
   ]
  },
  {
   "cell_type": "code",
   "execution_count": 19,
   "metadata": {},
   "outputs": [
    {
     "output_type": "execute_result",
     "data": {
      "text/plain": [
       "[3313.087890625,\n",
       " 2398.880126953125,\n",
       " 1766.852294921875,\n",
       " 1293.0830078125,\n",
       " 959.2947387695312,\n",
       " 713.966796875,\n",
       " 538.35595703125,\n",
       " 412.6512756347656,\n",
       " 322.5508728027344,\n",
       " 257.0362548828125,\n",
       " 209.4298095703125,\n",
       " 173.95018005371094,\n",
       " 149.54061889648438,\n",
       " 132.1693878173828,\n",
       " 118.75105285644531,\n",
       " 108.7918701171875,\n",
       " 102.2230453491211,\n",
       " 97.6229476928711,\n",
       " 94.14140319824219,\n",
       " 91.52897644042969]"
      ]
     },
     "metadata": {},
     "execution_count": 19
    }
   ],
   "source": [
    "result.history['loss']"
   ]
  },
  {
   "cell_type": "code",
   "execution_count": 20,
   "metadata": {},
   "outputs": [
    {
     "output_type": "stream",
     "name": "stdout",
     "text": [
      "[[ -39.453156  ]\n [  87.551605  ]\n [ 103.47938   ]\n [  41.16618   ]\n [  57.191196  ]\n [ -23.450966  ]\n [   7.1910734 ]\n [   2.8741112 ]\n [-127.802574  ]\n [ -12.538679  ]\n [  32.057655  ]\n [  87.98304   ]\n [ -32.061455  ]\n [ -11.268723  ]\n [  58.1988    ]\n [   6.0019355 ]\n [  34.98796   ]\n [  -1.9391394 ]\n [  93.68375   ]\n [  16.782421  ]\n [ 108.63927   ]\n [  -8.667086  ]\n [ -51.97524   ]\n [ -37.389484  ]\n [  42.52394   ]\n [ -49.660355  ]\n [  49.836594  ]\n [  40.979214  ]\n [  38.867836  ]\n [ -71.31194   ]\n [  -0.36893463]\n [   6.1578946 ]\n [ -91.40329   ]\n [ 137.02751   ]\n [  12.742142  ]\n [  76.98923   ]\n [ -68.19489   ]\n [  22.650373  ]\n [   5.194076  ]\n [  82.93994   ]\n [-110.85693   ]\n [  -3.020268  ]\n [ -95.102455  ]\n [  28.887117  ]\n [  10.385095  ]\n [ -10.936869  ]\n [  69.457306  ]\n [  -8.845564  ]\n [ -28.077465  ]\n [  79.50658   ]\n [ -60.29275   ]\n [ -36.673676  ]\n [ -13.414091  ]\n [  31.978523  ]\n [ -95.640396  ]\n [ 100.31333   ]\n [  45.08166   ]\n [  67.16108   ]\n [ -41.20689   ]\n [   8.1387005 ]\n [   9.298775  ]\n [ -70.27775   ]\n [  30.299488  ]\n [ -45.734383  ]\n [  13.009809  ]\n [ -11.244661  ]\n [  52.115902  ]\n [ -25.806065  ]\n [-140.55455   ]\n [ -13.268875  ]\n [  24.946396  ]\n [  31.409407  ]\n [ -25.637177  ]\n [  13.107149  ]\n [-122.62848   ]\n [  39.238964  ]\n [ -26.691185  ]\n [ -37.529465  ]\n [ -15.836931  ]\n [  21.974524  ]]\n"
     ]
    }
   ],
   "source": [
    "y = model.predict(train_x)\n",
    "print(y)"
   ]
  },
  {
   "cell_type": "code",
   "execution_count": 21,
   "metadata": {},
   "outputs": [
    {
     "output_type": "stream",
     "name": "stdout",
     "text": [
      "1/1 [==============================] - 0s 98ms/step - loss: 117.8056\n"
     ]
    },
    {
     "output_type": "execute_result",
     "data": {
      "text/plain": [
       "117.80564880371094"
      ]
     },
     "metadata": {},
     "execution_count": 21
    }
   ],
   "source": [
    "model.evaluate(test_x, test_t)"
   ]
  }
 ]
}