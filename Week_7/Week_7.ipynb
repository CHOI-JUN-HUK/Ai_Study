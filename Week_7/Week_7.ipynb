{
 "metadata": {
  "language_info": {
   "codemirror_mode": {
    "name": "ipython",
    "version": 3
   },
   "file_extension": ".py",
   "mimetype": "text/x-python",
   "name": "python",
   "nbconvert_exporter": "python",
   "pygments_lexer": "ipython3",
   "version": "3.7.4-final"
  },
  "orig_nbformat": 2,
  "kernelspec": {
   "name": "python3",
   "display_name": "Python 3",
   "language": "python"
  }
 },
 "nbformat": 4,
 "nbformat_minor": 2,
 "cells": [
  {
   "cell_type": "code",
   "execution_count": 28,
   "metadata": {},
   "outputs": [],
   "source": [
    "import numpy as np"
   ]
  },
  {
   "cell_type": "code",
   "execution_count": 29,
   "metadata": {},
   "outputs": [],
   "source": [
    "image = np.array([[3,1,1,2,8,4],[1,0,7,3,2,6],[2,3,5,1,1,3],[1,4,1,2,6,5],[3,2,1,3,7,2],[9,2,6,2,5,1]])\n",
    "feature = np.array([[1, 0, -1], [1, 0, -1], [1, 0, -1]])"
   ]
  },
  {
   "cell_type": "code",
   "execution_count": 34,
   "metadata": {},
   "outputs": [],
   "source": [
    "pre_feature_maps = []\n",
    "feature_map_list = []\n",
    "for i in range(4) :\n",
    "    for j in range(4) :\n",
    "        pre_feature_maps = image[i:i+3, j:j+3] * feature\n",
    "        feature_map_list.append(np.sum(pre_feature_maps))\n",
    "feature_map = np.array(feature_map_list).reshape(4,4)"
   ]
  },
  {
   "source": [
    "# 답안"
   ],
   "cell_type": "markdown",
   "metadata": {}
  },
  {
   "source": [
    "1."
   ],
   "cell_type": "markdown",
   "metadata": {}
  },
  {
   "cell_type": "code",
   "execution_count": 97,
   "metadata": {},
   "outputs": [
    {
     "output_type": "execute_result",
     "data": {
      "text/plain": [
       "array([[ -7,  -2,   2,  -7],\n",
       "       [ -9,   1,   4,  -8],\n",
       "       [ -1,   3,  -7,  -4],\n",
       "       [  5,   1, -10,  -1]])"
      ]
     },
     "metadata": {},
     "execution_count": 97
    }
   ],
   "source": [
    "feature_map"
   ]
  },
  {
   "source": [
    "2."
   ],
   "cell_type": "markdown",
   "metadata": {}
  },
  {
   "cell_type": "code",
   "execution_count": null,
   "metadata": {},
   "outputs": [],
   "source": [
    "[1 4 \n",
    " 5 -1]"
   ]
  }
 ]
}