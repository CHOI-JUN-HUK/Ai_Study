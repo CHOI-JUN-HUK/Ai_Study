{
 "metadata": {
  "language_info": {
   "codemirror_mode": {
    "name": "ipython",
    "version": 3
   },
   "file_extension": ".py",
   "mimetype": "text/x-python",
   "name": "python",
   "nbconvert_exporter": "python",
   "pygments_lexer": "ipython3",
   "version": "3.8.5-final"
  },
  "orig_nbformat": 2,
  "kernelspec": {
   "name": "python3",
   "display_name": "Python 3",
   "language": "python"
  }
 },
 "nbformat": 4,
 "nbformat_minor": 2,
 "cells": [
  {
   "cell_type": "code",
   "execution_count": 91,
   "metadata": {},
   "outputs": [],
   "source": [
    "import numpy as np"
   ]
  },
  {
   "cell_type": "code",
   "execution_count": 92,
   "metadata": {},
   "outputs": [],
   "source": [
    "image = np.array([[3,1,1,2,8,4],[1,0,7,3,2,6],[2,3,5,1,1,3],[1,4,1,2,6,5],[3,2,1,3,7,2],[9,2,6,2,5,1]])\n",
    "feature = np.array([[1, 0, -1], [1, 0, -1], [1, 0, -1]])"
   ]
  },
  {
   "cell_type": "code",
   "execution_count": 93,
   "metadata": {},
   "outputs": [
    {
     "output_type": "stream",
     "name": "stdout",
     "text": [
      "0:3, 0:3\n0:3, 1:4\n0:3, 2:5\n0:3, 3:6\n1:4, 0:3\n1:4, 1:4\n1:4, 2:5\n1:4, 3:6\n2:5, 0:3\n2:5, 1:4\n2:5, 2:5\n2:5, 3:6\n3:6, 0:3\n3:6, 1:4\n3:6, 2:5\n3:6, 3:6\n"
     ]
    }
   ],
   "source": [
    "n1 = 0\n",
    "n2 = 3\n",
    "n3 = 0\n",
    "n4 = 3\n",
    "pre_feature_maps = []\n",
    "feature_map_list = []\n",
    "for i in range(4) :\n",
    "    for j in range(4) :\n",
    "        print('{}:{}, {}:{}'.format(n1, n2, n3, n4))\n",
    "        pre_feature_map = image[n1:n2, n3:n4]\n",
    "        n3 += 1\n",
    "        n4 += 1\n",
    "        pre_feature_maps.append(pre_feature_map)\n",
    "    n1 += 1\n",
    "    n2 += 1\n",
    "    n3 = 0\n",
    "    n4 = 3"
   ]
  },
  {
   "cell_type": "code",
   "execution_count": 94,
   "metadata": {},
   "outputs": [
    {
     "output_type": "execute_result",
     "data": {
      "text/plain": [
       "[array([[3, 1, 1],\n",
       "        [1, 0, 7],\n",
       "        [2, 3, 5]]),\n",
       " array([[1, 1, 2],\n",
       "        [0, 7, 3],\n",
       "        [3, 5, 1]]),\n",
       " array([[1, 2, 8],\n",
       "        [7, 3, 2],\n",
       "        [5, 1, 1]]),\n",
       " array([[2, 8, 4],\n",
       "        [3, 2, 6],\n",
       "        [1, 1, 3]]),\n",
       " array([[1, 0, 7],\n",
       "        [2, 3, 5],\n",
       "        [1, 4, 1]]),\n",
       " array([[0, 7, 3],\n",
       "        [3, 5, 1],\n",
       "        [4, 1, 2]]),\n",
       " array([[7, 3, 2],\n",
       "        [5, 1, 1],\n",
       "        [1, 2, 6]]),\n",
       " array([[3, 2, 6],\n",
       "        [1, 1, 3],\n",
       "        [2, 6, 5]]),\n",
       " array([[2, 3, 5],\n",
       "        [1, 4, 1],\n",
       "        [3, 2, 1]]),\n",
       " array([[3, 5, 1],\n",
       "        [4, 1, 2],\n",
       "        [2, 1, 3]]),\n",
       " array([[5, 1, 1],\n",
       "        [1, 2, 6],\n",
       "        [1, 3, 7]]),\n",
       " array([[1, 1, 3],\n",
       "        [2, 6, 5],\n",
       "        [3, 7, 2]]),\n",
       " array([[1, 4, 1],\n",
       "        [3, 2, 1],\n",
       "        [9, 2, 6]]),\n",
       " array([[4, 1, 2],\n",
       "        [2, 1, 3],\n",
       "        [2, 6, 2]]),\n",
       " array([[1, 2, 6],\n",
       "        [1, 3, 7],\n",
       "        [6, 2, 5]]),\n",
       " array([[2, 6, 5],\n",
       "        [3, 7, 2],\n",
       "        [2, 5, 1]])]"
      ]
     },
     "metadata": {},
     "execution_count": 94
    }
   ],
   "source": [
    "pre_feature_maps"
   ]
  },
  {
   "cell_type": "code",
   "execution_count": 95,
   "metadata": {},
   "outputs": [
    {
     "output_type": "stream",
     "name": "stdout",
     "text": [
      "-7\n-2\n2\n-7\n-9\n1\n4\n-8\n-1\n3\n-7\n-4\n5\n1\n-10\n-1\n"
     ]
    }
   ],
   "source": [
    "for i in pre_feature_maps :\n",
    "    print(np.sum(i * feature))\n",
    "    feature_map_list.append(np.sum(i*feature))"
   ]
  },
  {
   "cell_type": "code",
   "execution_count": 96,
   "metadata": {},
   "outputs": [
    {
     "output_type": "execute_result",
     "data": {
      "text/plain": [
       "array([[ -7,  -2,   2,  -7],\n",
       "       [ -9,   1,   4,  -8],\n",
       "       [ -1,   3,  -7,  -4],\n",
       "       [  5,   1, -10,  -1]])"
      ]
     },
     "metadata": {},
     "execution_count": 96
    }
   ],
   "source": [
    "feature_map = np.array(feature_map_list).reshape(4,4)\n",
    "feature_map"
   ]
  },
  {
   "source": [
    "# 답안"
   ],
   "cell_type": "markdown",
   "metadata": {}
  },
  {
   "source": [
    "1."
   ],
   "cell_type": "markdown",
   "metadata": {}
  },
  {
   "cell_type": "code",
   "execution_count": 97,
   "metadata": {},
   "outputs": [
    {
     "output_type": "execute_result",
     "data": {
      "text/plain": [
       "array([[ -7,  -2,   2,  -7],\n",
       "       [ -9,   1,   4,  -8],\n",
       "       [ -1,   3,  -7,  -4],\n",
       "       [  5,   1, -10,  -1]])"
      ]
     },
     "metadata": {},
     "execution_count": 97
    }
   ],
   "source": [
    "feature_map"
   ]
  },
  {
   "source": [
    "2."
   ],
   "cell_type": "markdown",
   "metadata": {}
  },
  {
   "cell_type": "code",
   "execution_count": null,
   "metadata": {},
   "outputs": [],
   "source": [
    "[1 4 \n",
    " 5 -1]"
   ]
  }
 ]
}