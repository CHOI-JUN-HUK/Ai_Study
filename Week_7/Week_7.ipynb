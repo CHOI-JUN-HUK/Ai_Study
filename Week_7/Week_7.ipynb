{
 "metadata": {
  "language_info": {
   "codemirror_mode": {
    "name": "ipython",
    "version": 3
   },
   "file_extension": ".py",
   "mimetype": "text/x-python",
   "name": "python",
   "nbconvert_exporter": "python",
   "pygments_lexer": "ipython3",
   "version": "3.8.5-final"
  },
  "orig_nbformat": 2,
  "kernelspec": {
   "name": "python3",
   "display_name": "Python 3",
   "language": "python"
  }
 },
 "nbformat": 4,
 "nbformat_minor": 2,
 "cells": [
  {
   "cell_type": "code",
   "execution_count": 88,
   "metadata": {},
   "outputs": [],
   "source": [
    "import numpy as np"
   ]
  },
  {
   "cell_type": "code",
   "execution_count": 89,
   "metadata": {},
   "outputs": [],
   "source": [
    "image = np.matrix('3 1 1 2 8 4; 1 0 7 3 2 6; 2 3 5 1 1 3; 1 4 1 2 6 5; 3 2 1 3 7 2; 9 2 6 2 5 1')\n",
    "feature = np.matrix('1 0 -1; 1 0 -1; 1 0 -1')"
   ]
  },
  {
   "cell_type": "code",
   "execution_count": 90,
   "metadata": {},
   "outputs": [
    {
     "output_type": "execute_result",
     "data": {
      "text/plain": [
       "matrix([[3, 1, 1, 2, 8, 4],\n",
       "        [1, 0, 7, 3, 2, 6],\n",
       "        [2, 3, 5, 1, 1, 3],\n",
       "        [1, 4, 1, 2, 6, 5],\n",
       "        [3, 2, 1, 3, 7, 2],\n",
       "        [9, 2, 6, 2, 5, 1]])"
      ]
     },
     "metadata": {},
     "execution_count": 90
    }
   ],
   "source": [
    "image"
   ]
  },
  {
   "cell_type": "code",
   "execution_count": 91,
   "metadata": {},
   "outputs": [
    {
     "output_type": "stream",
     "name": "stdout",
     "text": [
      "0:3, 0:3\n0:3, 1:4\n0:3, 2:5\n0:3, 3:6\n1:4, 0:3\n1:4, 1:4\n1:4, 2:5\n1:4, 3:6\n2:5, 0:3\n2:5, 1:4\n2:5, 2:5\n2:5, 3:6\n3:6, 0:3\n3:6, 1:4\n3:6, 2:5\n3:6, 3:6\n"
     ]
    }
   ],
   "source": [
    "n1 = 0\n",
    "n2 = 3\n",
    "n3 = 0\n",
    "n4 = 3\n",
    "pre_feature_maps = []\n",
    "feature_map = []\n",
    "for i in range(4) :\n",
    "    for j in range(4) :\n",
    "        print('{}:{}, {}:{}'.format(n1, n2, n3, n4))\n",
    "        pre_feature_map = image[n1:n2, n3:n4]\n",
    "        n3 += 1\n",
    "        n4 += 1\n",
    "        pre_feature_maps.append(pre_feature_map)\n",
    "    n1 += 1\n",
    "    n2 += 1\n",
    "    n3 = 0\n",
    "    n4 = 3"
   ]
  },
  {
   "cell_type": "code",
   "execution_count": 92,
   "metadata": {},
   "outputs": [],
   "source": [
    "for i in pre_feature_maps :\n",
    "    feature_map.append(np.dot(i,feature))"
   ]
  },
  {
   "cell_type": "code",
   "execution_count": 93,
   "metadata": {},
   "outputs": [
    {
     "output_type": "stream",
     "name": "stdout",
     "text": [
      "[[  5   0  -5]\n [  8   0  -8]\n [ 10   0 -10]]\n[[  4   0  -4]\n [ 10   0 -10]\n [  9   0  -9]]\n[[ 11   0 -11]\n [ 12   0 -12]\n [  7   0  -7]]\n[[ 14   0 -14]\n [ 11   0 -11]\n [  5   0  -5]]\n[[  8   0  -8]\n [ 10   0 -10]\n [  6   0  -6]]\n[[ 10   0 -10]\n [  9   0  -9]\n [  7   0  -7]]\n[[ 12   0 -12]\n [  7   0  -7]\n [  9   0  -9]]\n[[ 11   0 -11]\n [  5   0  -5]\n [ 13   0 -13]]\n[[ 10   0 -10]\n [  6   0  -6]\n [  6   0  -6]]\n[[ 9  0 -9]\n [ 7  0 -7]\n [ 6  0 -6]]\n[[  7   0  -7]\n [  9   0  -9]\n [ 11   0 -11]]\n[[  5   0  -5]\n [ 13   0 -13]\n [ 12   0 -12]]\n[[  6   0  -6]\n [  6   0  -6]\n [ 17   0 -17]]\n[[  7   0  -7]\n [  6   0  -6]\n [ 10   0 -10]]\n[[  9   0  -9]\n [ 11   0 -11]\n [ 13   0 -13]]\n[[ 13   0 -13]\n [ 12   0 -12]\n [  8   0  -8]]\n"
     ]
    }
   ],
   "source": [
    "for i in feature_map :\n",
    "    print(i)"
   ]
  },
  {
   "cell_type": "code",
   "execution_count": 94,
   "metadata": {},
   "outputs": [],
   "source": [
    "max_pooling = []\n",
    "for i in range(0,len(feature_map)) :\n",
    "    max_pooling.append(np.max(feature_map[i]))"
   ]
  },
  {
   "cell_type": "code",
   "execution_count": 95,
   "metadata": {},
   "outputs": [
    {
     "output_type": "stream",
     "name": "stdout",
     "text": [
      "[10, 10, 12, 14]\n[10, 10, 12, 13]\n[10, 9, 11, 13]\n[17, 10, 13, 13]\n"
     ]
    }
   ],
   "source": [
    "print(max_pooling[0:4])\n",
    "print(max_pooling[4:8])\n",
    "print(max_pooling[8:12])\n",
    "print(max_pooling[12:16])"
   ]
  },
  {
   "cell_type": "code",
   "execution_count": 97,
   "metadata": {},
   "outputs": [],
   "source": [
    "max_pooling1 = np.matrix([max_pooling[0:2], max_pooling[2:4]])\n",
    "max_pooling2 = np.matrix([max_pooling[4:6], max_pooling[6:8]])\n",
    "max_pooling3 = np.matrix([max_pooling[8:10], max_pooling[10:12]])\n",
    "max_pooling4 = np.matrix([max_pooling[12:14], max_pooling[14:16]])"
   ]
  },
  {
   "cell_type": "code",
   "execution_count": 108,
   "metadata": {},
   "outputs": [],
   "source": [
    "max_pooling = [max_pooling1, max_pooling2, max_pooling3, max_pooling4]"
   ]
  },
  {
   "cell_type": "code",
   "execution_count": 109,
   "metadata": {},
   "outputs": [
    {
     "output_type": "execute_result",
     "data": {
      "text/plain": [
       "[matrix([[10, 10],\n",
       "         [12, 14]]),\n",
       " matrix([[10, 10],\n",
       "         [12, 13]]),\n",
       " matrix([[10,  9],\n",
       "         [11, 13]]),\n",
       " matrix([[17, 10],\n",
       "         [13, 13]])]"
      ]
     },
     "metadata": {},
     "execution_count": 109
    }
   ],
   "source": [
    "max_pooling"
   ]
  },
  {
   "source": [
    "# 답안"
   ],
   "cell_type": "markdown",
   "metadata": {}
  },
  {
   "source": [
    "1."
   ],
   "cell_type": "markdown",
   "metadata": {}
  },
  {
   "cell_type": "code",
   "execution_count": 112,
   "metadata": {},
   "outputs": [
    {
     "output_type": "stream",
     "name": "stdout",
     "text": [
      "[[  5   0  -5]\n [  8   0  -8]\n [ 10   0 -10]]\n[[  4   0  -4]\n [ 10   0 -10]\n [  9   0  -9]]\n[[ 11   0 -11]\n [ 12   0 -12]\n [  7   0  -7]]\n[[ 14   0 -14]\n [ 11   0 -11]\n [  5   0  -5]]\n[[  8   0  -8]\n [ 10   0 -10]\n [  6   0  -6]]\n[[ 10   0 -10]\n [  9   0  -9]\n [  7   0  -7]]\n[[ 12   0 -12]\n [  7   0  -7]\n [  9   0  -9]]\n[[ 11   0 -11]\n [  5   0  -5]\n [ 13   0 -13]]\n[[ 10   0 -10]\n [  6   0  -6]\n [  6   0  -6]]\n[[ 9  0 -9]\n [ 7  0 -7]\n [ 6  0 -6]]\n[[  7   0  -7]\n [  9   0  -9]\n [ 11   0 -11]]\n[[  5   0  -5]\n [ 13   0 -13]\n [ 12   0 -12]]\n[[  6   0  -6]\n [  6   0  -6]\n [ 17   0 -17]]\n[[  7   0  -7]\n [  6   0  -6]\n [ 10   0 -10]]\n[[  9   0  -9]\n [ 11   0 -11]\n [ 13   0 -13]]\n[[ 13   0 -13]\n [ 12   0 -12]\n [  8   0  -8]]\n"
     ]
    }
   ],
   "source": [
    "for i in feature_map :\n",
    "    print(i)"
   ]
  },
  {
   "source": [
    "2."
   ],
   "cell_type": "markdown",
   "metadata": {}
  },
  {
   "cell_type": "code",
   "execution_count": 115,
   "metadata": {},
   "outputs": [
    {
     "output_type": "stream",
     "name": "stdout",
     "text": [
      "[[10 10]\n [12 14]]\n[[10 10]\n [12 13]]\n[[10  9]\n [11 13]]\n[[17 10]\n [13 13]]\n"
     ]
    }
   ],
   "source": [
    "for i in max_pooling :\n",
    "    print(i)"
   ]
  }
 ]
}